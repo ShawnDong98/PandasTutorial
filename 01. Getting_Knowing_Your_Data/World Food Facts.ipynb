{
 "cells": [
  {
   "cell_type": "markdown",
   "id": "c791b5d5-d9da-4b09-8000-995203369059",
   "metadata": {},
   "source": [
    "# Ex1 - Getting and knowing your Data\n",
    "\n",
    "## Step 1. Go to https://www.kaggle.com/openfoodfacts/world-food-facts/data\n",
    "\n",
    "## Step 2. Download the dataset to your computer and unzip it."
   ]
  },
  {
   "cell_type": "code",
   "execution_count": 1,
   "id": "f3e213f7-80dc-4d6b-905a-07a7f581eb16",
   "metadata": {},
   "outputs": [],
   "source": [
    "import pandas as pd"
   ]
  },
  {
   "cell_type": "code",
   "execution_count": null,
   "id": "174c3029-077b-4486-abe2-38a8386f385d",
   "metadata": {},
   "outputs": [],
   "source": []
  }
 ],
 "metadata": {
  "kernelspec": {
   "display_name": "Python 3 (ipykernel)",
   "language": "python",
   "name": "python3"
  },
  "language_info": {
   "codemirror_mode": {
    "name": "ipython",
    "version": 3
   },
   "file_extension": ".py",
   "mimetype": "text/x-python",
   "name": "python",
   "nbconvert_exporter": "python",
   "pygments_lexer": "ipython3",
   "version": "3.8.12"
  }
 },
 "nbformat": 4,
 "nbformat_minor": 5
}
